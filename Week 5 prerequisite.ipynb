{
 "cells": [
  {
   "cell_type": "markdown",
   "id": "7a22840f",
   "metadata": {},
   "source": [
    "# Causal Data Science Week 5 Tutorial Prerequisite\n",
    "\n"
   ]
  },
  {
   "cell_type": "markdown",
   "id": "090c7650",
   "metadata": {},
   "source": [
    "Week 5 tutorial requires installation of CausalDiscoveryToolbox, R and R-related packages. The installation may take some time, so we suggest you do the installations before the tutorial."
   ]
  },
  {
   "cell_type": "markdown",
   "id": "c0511084",
   "metadata": {},
   "source": [
    "First download install R based on your own operation system from:\n",
    "\n",
    "https://cran.r-project.org/\n",
    "\n",
    "You can also install RStudio:\n",
    "\n",
    "https://www.rstudio.com/products/rstudio/#rstudio-desktop"
   ]
  },
  {
   "cell_type": "markdown",
   "id": "18e508d8",
   "metadata": {},
   "source": [
    "### If you have not used the updated Canvas environments"
   ]
  },
  {
   "cell_type": "markdown",
   "id": "40b09d02",
   "metadata": {},
   "source": [
    "If you are using the old Windows environment, you need to do the following in your environment:"
   ]
  },
  {
   "cell_type": "markdown",
   "id": "5b809667",
   "metadata": {},
   "source": [
    "```\n",
    "pip install cdt\n",
    "conda install r-RCurl\n",
    "pip install torchvision\n",
    "pip install ges\n",
    "```"
   ]
  },
  {
   "cell_type": "markdown",
   "id": "072f684e",
   "metadata": {},
   "source": [
    "If you are using the old Mac environment **or** manually installed the packages from the previous Canvas announcement:"
   ]
  },
  {
   "cell_type": "markdown",
   "id": "cacc4a2e",
   "metadata": {},
   "source": [
    "```\n",
    "pip install ges\n",
    "```"
   ]
  },
  {
   "cell_type": "markdown",
   "id": "baea8b48",
   "metadata": {},
   "source": [
    "### Everyone needs to install some R packages"
   ]
  },
  {
   "cell_type": "markdown",
   "id": "d2c45b91",
   "metadata": {},
   "source": [
    "Install packages ```pcalg```, ```kpcalg```, ```devtools``` and \n",
    "a variation of ```RCIT``` package from Diviyan-Kalainathan/RCIT\n",
    "\n",
    "Use following commands in R (or RStudio if you have it): \n",
    "\n",
    "```\n",
    "install.packages(\"pcalg\")\n",
    "install.packages(\"kpcalg\")\n",
    "install.packages(\"devtools\")\n",
    "library(devtools)\n",
    "install_github(\"Diviyan-Kalainathan/RCIT\")\n",
    "```"
   ]
  },
  {
   "cell_type": "markdown",
   "id": "ff4d2b22",
   "metadata": {},
   "source": [
    "### Test your installation"
   ]
  },
  {
   "cell_type": "markdown",
   "id": "c41fb2b7",
   "metadata": {},
   "source": [
    "After installation, run the following cell to test. You should not receive any errors if everything has been installed correctly (some warnings are ok)."
   ]
  },
  {
   "cell_type": "code",
   "execution_count": 3,
   "id": "94232360",
   "metadata": {},
   "outputs": [],
   "source": [
    "import ges\n",
    "import cdt\n",
    "# cdt.SETTINGS.rpath = '/usr/local/bin/Rscript' # for macOS\n",
    "# cdt.SETTINGS.rpath = 'C:/Program Files/R/R-4.0.3/bin/Rscript' # for Windows\n",
    "\n",
    "model_pc = cdt.causality.graph.PC()"
   ]
  }
 ],
 "metadata": {
  "kernelspec": {
   "display_name": "causal_data_science_env",
   "language": "python",
   "name": "causal_data_science_env"
  },
  "language_info": {
   "codemirror_mode": {
    "name": "ipython",
    "version": 3
   },
   "file_extension": ".py",
   "mimetype": "text/x-python",
   "name": "python",
   "nbconvert_exporter": "python",
   "pygments_lexer": "ipython3",
   "version": "3.10.9"
  }
 },
 "nbformat": 4,
 "nbformat_minor": 5
}
