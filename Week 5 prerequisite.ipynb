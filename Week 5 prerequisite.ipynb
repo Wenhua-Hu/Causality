{
 "cells": [
  {
   "cell_type": "markdown",
   "id": "7a22840f",
   "metadata": {},
   "source": [
    "# Causal Data Science Week 5 Tutorial Prerequisite\n",
    "\n"
   ]
  },
  {
   "cell_type": "markdown",
   "id": "090c7650",
   "metadata": {},
   "source": [
    "Week 5 tutorial requires installation of CausalDiscoveryToolbox, R and R-related packages. The installation may take some time, so we suggest you do the installations before the tutorial."
   ]
  },
  {
   "cell_type": "markdown",
   "id": "c0511084",
   "metadata": {},
   "source": [
    "First download install R based on your own operation system from:\n",
    "\n",
    "https://cran.r-project.org/\n",
    "\n",
    "You can also install RStudio:\n",
    "\n",
    "https://www.rstudio.com/products/rstudio/#rstudio-desktop"
   ]
  },
  {
   "cell_type": "markdown",
   "id": "18e508d8",
   "metadata": {},
   "source": [
    "### If you have not used the updated Canvas environments"
   ]
  },
  {
   "cell_type": "markdown",
   "id": "40b09d02",
   "metadata": {},
   "source": [
    "If you are using the old Windows environment, you need to do the following in your environment:"
   ]
  },
  {
   "cell_type": "markdown",
   "id": "5b809667",
   "metadata": {},
   "source": [
    "```\n",
    "pip install cdt\n",
    "conda install r-RCurl\n",
    "pip install torchvision\n",
    "pip install ges\n",
    "```"
   ]
  },
  {
   "cell_type": "markdown",
   "id": "072f684e",
   "metadata": {},
   "source": [
    "If you are using the old Mac environment **or** manually installed the packages from the previous Canvas announcement:"
   ]
  },
  {
   "cell_type": "markdown",
   "id": "cacc4a2e",
   "metadata": {},
   "source": [
    "```\n",
    "pip install ges\n",
    "```"
   ]
  },
  {
   "cell_type": "markdown",
   "id": "baea8b48",
   "metadata": {},
   "source": [
    "### Everyone needs to install some R packages"
   ]
  },
  {
   "cell_type": "markdown",
   "id": "d2c45b91",
   "metadata": {},
   "source": [
    "Install packages ```pcalg```, ```kpcalg```, ```devtools``` and \n",
    "a variation of ```RCIT``` package from Diviyan-Kalainathan/RCIT\n",
    "\n",
    "Use following commands in R (or RStudio if you have it): \n",
    "\n",
    "```\n",
    "install.packages(\"pcalg\")\n",
    "install.packages(\"kpcalg\")\n",
    "install.packages(\"devtools\")\n",
    "library(devtools)\n",
    "install_github(\"Diviyan-Kalainathan/RCIT\")\n",
    "```"
   ]
  },
  {
   "cell_type": "code",
   "execution_count": null,
   "id": "ad38178e",
   "metadata": {},
   "outputs": [],
   "source": []
  },
  {
   "cell_type": "markdown",
   "id": "ff4d2b22",
   "metadata": {},
   "source": [
    "### Test your installation"
   ]
  },
  {
   "cell_type": "markdown",
   "id": "c41fb2b7",
   "metadata": {},
   "source": [
    "After installation, run the following cell to test. You should not receive any errors if everything has been installed correctly (some warnings are ok)."
   ]
  },
  {
   "cell_type": "code",
   "execution_count": 2,
   "id": "94232360",
   "metadata": {},
   "outputs": [
    {
     "ename": "ImportError",
     "evalue": "R Package (k)pcalg/RCIT is not available. RCIT has to be installed from https://github.com/Diviyan-Kalainathan/RCIT",
     "output_type": "error",
     "traceback": [
      "\u001b[1;31m---------------------------------------------------------------------------\u001b[0m",
      "\u001b[1;31mImportError\u001b[0m                               Traceback (most recent call last)",
      "Cell \u001b[1;32mIn[2], line 6\u001b[0m\n\u001b[0;32m      3\u001b[0m \u001b[38;5;66;03m# cdt.SETTINGS.rpath = '/usr/local/bin/Rscript' # for macOS\u001b[39;00m\n\u001b[0;32m      4\u001b[0m cdt\u001b[38;5;241m.\u001b[39mSETTINGS\u001b[38;5;241m.\u001b[39mrpath \u001b[38;5;241m=\u001b[39m \u001b[38;5;124m'\u001b[39m\u001b[38;5;124mC:/Program Files/R/R-4.3.3/bin/Rscript\u001b[39m\u001b[38;5;124m'\u001b[39m \u001b[38;5;66;03m# for Windows\u001b[39;00m\n\u001b[1;32m----> 6\u001b[0m model_pc \u001b[38;5;241m=\u001b[39m \u001b[43mcdt\u001b[49m\u001b[38;5;241;43m.\u001b[39;49m\u001b[43mcausality\u001b[49m\u001b[38;5;241;43m.\u001b[39;49m\u001b[43mgraph\u001b[49m\u001b[38;5;241;43m.\u001b[39;49m\u001b[43mPC\u001b[49m\u001b[43m(\u001b[49m\u001b[43m)\u001b[49m\n",
      "File \u001b[1;32me:\\Users\\Linuxer\\miniconda3\\envs\\causal\\lib\\site-packages\\cdt\\causality\\graph\\PC.py:176\u001b[0m, in \u001b[0;36mPC.__init__\u001b[1;34m(self, CItest, method_indep, alpha, njobs, verbose)\u001b[0m\n\u001b[0;32m    174\u001b[0m \u001b[38;5;250m\u001b[39m\u001b[38;5;124;03m\"\"\"Init the model and its available arguments.\"\"\"\u001b[39;00m\n\u001b[0;32m    175\u001b[0m \u001b[38;5;28;01mif\u001b[39;00m \u001b[38;5;129;01mnot\u001b[39;00m (RPackages\u001b[38;5;241m.\u001b[39mpcalg \u001b[38;5;129;01mand\u001b[39;00m RPackages\u001b[38;5;241m.\u001b[39mkpcalg \u001b[38;5;129;01mand\u001b[39;00m RPackages\u001b[38;5;241m.\u001b[39mRCIT):\n\u001b[1;32m--> 176\u001b[0m     \u001b[38;5;28;01mraise\u001b[39;00m \u001b[38;5;167;01mImportError\u001b[39;00m(\u001b[38;5;124m\"\u001b[39m\u001b[38;5;124mR Package (k)pcalg/RCIT is not available. \u001b[39m\u001b[38;5;124m\"\u001b[39m\n\u001b[0;32m    177\u001b[0m                       \u001b[38;5;124m\"\u001b[39m\u001b[38;5;124mRCIT has to be installed from \u001b[39m\u001b[38;5;124m\"\u001b[39m\n\u001b[0;32m    178\u001b[0m                       \u001b[38;5;124m\"\u001b[39m\u001b[38;5;124mhttps://github.com/Diviyan-Kalainathan/RCIT\u001b[39m\u001b[38;5;124m\"\u001b[39m)\n\u001b[0;32m    180\u001b[0m \u001b[38;5;28msuper\u001b[39m(PC, \u001b[38;5;28mself\u001b[39m)\u001b[38;5;241m.\u001b[39m\u001b[38;5;21m__init__\u001b[39m()\n\u001b[0;32m    181\u001b[0m \u001b[38;5;28mself\u001b[39m\u001b[38;5;241m.\u001b[39mdir_CI_test \u001b[38;5;241m=\u001b[39m {\u001b[38;5;124m'\u001b[39m\u001b[38;5;124mbinary\u001b[39m\u001b[38;5;124m'\u001b[39m: \u001b[38;5;124m\"\u001b[39m\u001b[38;5;124mpcalg::binCItest\u001b[39m\u001b[38;5;124m\"\u001b[39m, \u001b[38;5;66;03m# ic.method=\\\"dcc\\\"\",\u001b[39;00m\n\u001b[0;32m    182\u001b[0m                          \u001b[38;5;124m'\u001b[39m\u001b[38;5;124mdiscrete\u001b[39m\u001b[38;5;124m'\u001b[39m: \u001b[38;5;124m\"\u001b[39m\u001b[38;5;124mpcalg::disCItest\u001b[39m\u001b[38;5;124m\"\u001b[39m,\n\u001b[0;32m    183\u001b[0m                          \u001b[38;5;124m'\u001b[39m\u001b[38;5;124mhsic_gamma\u001b[39m\u001b[38;5;124m'\u001b[39m: \u001b[38;5;124m\"\u001b[39m\u001b[38;5;124mkpcalg::kernelCItest\u001b[39m\u001b[38;5;124m\"\u001b[39m,\n\u001b[1;32m   (...)\u001b[0m\n\u001b[0;32m    187\u001b[0m                          \u001b[38;5;124m'\u001b[39m\u001b[38;5;124mrcit\u001b[39m\u001b[38;5;124m'\u001b[39m: \u001b[38;5;124m\"\u001b[39m\u001b[38;5;124mRCIT:::CItest\u001b[39m\u001b[38;5;124m\"\u001b[39m,\n\u001b[0;32m    188\u001b[0m                          \u001b[38;5;124m'\u001b[39m\u001b[38;5;124mrcot\u001b[39m\u001b[38;5;124m'\u001b[39m: \u001b[38;5;124m\"\u001b[39m\u001b[38;5;124mRCIT:::CItest\u001b[39m\u001b[38;5;124m\"\u001b[39m}\n",
      "\u001b[1;31mImportError\u001b[0m: R Package (k)pcalg/RCIT is not available. RCIT has to be installed from https://github.com/Diviyan-Kalainathan/RCIT"
     ]
    }
   ],
   "source": [
    "import ges\n",
    "import cdt\n",
    "# cdt.SETTINGS.rpath = '/usr/local/bin/Rscript' # for macOS\n",
    "cdt.SETTINGS.rpath = 'C:/Program Files/R/R-4.3.3/bin/Rscript' # for Windows\n",
    "\n",
    "model_pc = cdt.causality.graph.PC()"
   ]
  }
 ],
 "metadata": {
  "kernelspec": {
   "display_name": "causal",
   "language": "python",
   "name": "python3"
  },
  "language_info": {
   "codemirror_mode": {
    "name": "ipython",
    "version": 3
   },
   "file_extension": ".py",
   "mimetype": "text/x-python",
   "name": "python",
   "nbconvert_exporter": "python",
   "pygments_lexer": "ipython3",
   "version": "3.10.9"
  }
 },
 "nbformat": 4,
 "nbformat_minor": 5
}
